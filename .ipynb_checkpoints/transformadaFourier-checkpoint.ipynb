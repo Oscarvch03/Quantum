{
 "cells": [
  {
   "cell_type": "code",
   "execution_count": 1,
   "metadata": {},
   "outputs": [],
   "source": [
    "import numpy as np\n",
    "from numpy import pi\n",
    "from qiskit import QuantumCircuit, execute, Aer, IBMQ\n",
    "from qiskit.providers.ibmq import least_busy\n",
    "from qiskit.tools.monitor import job_monitor\n",
    "from qiskit.visualization import plot_histogram, plot_bloch_multivector\n",
    "%config InlineBackend.figure_format = 'svg' "
   ]
  },
  {
   "cell_type": "code",
   "execution_count": 2,
   "metadata": {},
   "outputs": [],
   "source": [
    "def qft_rotations(circuit, n, k):\n",
    "    if k == n: # Exit function if circuit is empty\n",
    "        return circuit\n",
    "    circuit.h(k)\n",
    "    for qubit in range(1, n - k):\n",
    "        circuit.cu1(pi / (2 ** qubit), qubit + k, k)\n",
    "    k += 1\n",
    "    circuit.barrier()\n",
    "    qft_rotations(circuit,n,k)"
   ]
  },
  {
   "cell_type": "code",
   "execution_count": 3,
   "metadata": {},
   "outputs": [
    {
     "data": {
      "text/html": [
       "<pre style=\"word-wrap: normal;white-space: pre;background: #fff0;line-height: 1.1;font-family: &quot;Courier New&quot;,Courier,monospace\">     ┌───┐                              ░                            ░      »\n",
       "q_0: ┤ H ├─■──────■──────■──────■───────░────────────────────────────░──────»\n",
       "     └───┘ │pi/2  │      │      │       ░ ┌───┐                      ░      »\n",
       "q_1: ──────■──────┼──────┼──────┼───────░─┤ H ├─■──────■──────■──────░──────»\n",
       "                  │pi/4  │      │       ░ └───┘ │pi/2  │      │      ░ ┌───┐»\n",
       "q_2: ─────────────■──────┼──────┼───────░───────■──────┼──────┼──────░─┤ H ├»\n",
       "                         │pi/8  │       ░              │pi/4  │      ░ └───┘»\n",
       "q_3: ────────────────────■──────┼───────░──────────────■──────┼──────░──────»\n",
       "                                │pi/16  ░                     │pi/8  ░      »\n",
       "q_4: ───────────────────────────■───────░─────────────────────■──────░──────»\n",
       "                                        ░                            ░      »\n",
       "«                    ░              ░       ░ \n",
       "«q_0: ───────────────░──────────────░───────░─\n",
       "«                    ░              ░       ░ \n",
       "«q_1: ───────────────░──────────────░───────░─\n",
       "«                    ░              ░       ░ \n",
       "«q_2: ─■──────■──────░──────────────░───────░─\n",
       "«      │pi/2  │      ░ ┌───┐        ░       ░ \n",
       "«q_3: ─■──────┼──────░─┤ H ├─■──────░───────░─\n",
       "«             │pi/4  ░ └───┘ │pi/2  ░ ┌───┐ ░ \n",
       "«q_4: ────────■──────░───────■──────░─┤ H ├─░─\n",
       "«                    ░              ░ └───┘ ░ </pre>"
      ],
      "text/plain": [
       "     ┌───┐                              ░                            ░      »\n",
       "q_0: ┤ H ├─■──────■──────■──────■───────░────────────────────────────░──────»\n",
       "     └───┘ │pi/2  │      │      │       ░ ┌───┐                      ░      »\n",
       "q_1: ──────■──────┼──────┼──────┼───────░─┤ H ├─■──────■──────■──────░──────»\n",
       "                  │pi/4  │      │       ░ └───┘ │pi/2  │      │      ░ ┌───┐»\n",
       "q_2: ─────────────■──────┼──────┼───────░───────■──────┼──────┼──────░─┤ H ├»\n",
       "                         │pi/8  │       ░              │pi/4  │      ░ └───┘»\n",
       "q_3: ────────────────────■──────┼───────░──────────────■──────┼──────░──────»\n",
       "                                │pi/16  ░                     │pi/8  ░      »\n",
       "q_4: ───────────────────────────■───────░─────────────────────■──────░──────»\n",
       "                                        ░                            ░      »\n",
       "«                    ░              ░       ░ \n",
       "«q_0: ───────────────░──────────────░───────░─\n",
       "«                    ░              ░       ░ \n",
       "«q_1: ───────────────░──────────────░───────░─\n",
       "«                    ░              ░       ░ \n",
       "«q_2: ─■──────■──────░──────────────░───────░─\n",
       "«      │pi/2  │      ░ ┌───┐        ░       ░ \n",
       "«q_3: ─■──────┼──────░─┤ H ├─■──────░───────░─\n",
       "«             │pi/4  ░ └───┘ │pi/2  ░ ┌───┐ ░ \n",
       "«q_4: ────────■──────░───────■──────░─┤ H ├─░─\n",
       "«                    ░              ░ └───┘ ░ "
      ]
     },
     "execution_count": 3,
     "metadata": {},
     "output_type": "execute_result"
    }
   ],
   "source": [
    "qc = QuantumCircuit(4)\n",
    "qft_rotations(qc,4,0)\n",
    "qc.draw()"
   ]
  },
  {
   "cell_type": "code",
   "execution_count": 4,
   "metadata": {},
   "outputs": [],
   "source": [
    "def swap_registers(circuit, n):\n",
    "    for qubit in range(n//2):\n",
    "        circuit.swap(qubit, n-qubit-1)\n",
    "    return circuit"
   ]
  },
  {
   "cell_type": "code",
   "execution_count": 7,
   "metadata": {},
   "outputs": [],
   "source": [
    "def qft(circuit, n):\n",
    "    \"\"\"QFT on the first n qubits in circuit\"\"\"\n",
    "    qft_rotations(circuit, n, 0)\n",
    "    swap_registers(circuit, n)\n",
    "    return circuit"
   ]
  },
  {
   "cell_type": "code",
   "execution_count": 9,
   "metadata": {},
   "outputs": [
    {
     "data": {
      "text/html": [
       "<pre style=\"word-wrap: normal;white-space: pre;background: #fff0;line-height: 1.1;font-family: &quot;Courier New&quot;,Courier,monospace\">     ┌───┐                      ░                     ░              ░       ░ »\n",
       "q_0: ┤ H ├─■──────■──────■──────░─────────────────────░──────────────░───────░─»\n",
       "     └───┘ │pi/2  │      │      ░ ┌───┐               ░              ░       ░ »\n",
       "q_1: ──────■──────┼──────┼──────░─┤ H ├─■──────■──────░──────────────░───────░─»\n",
       "                  │pi/4  │      ░ └───┘ │pi/2  │      ░ ┌───┐        ░       ░ »\n",
       "q_2: ─────────────■──────┼──────░───────■──────┼──────░─┤ H ├─■──────░───────░─»\n",
       "                         │pi/8  ░              │pi/4  ░ └───┘ │pi/2  ░ ┌───┐ ░ »\n",
       "q_3: ────────────────────■──────░──────────────■──────░───────■──────░─┤ H ├─░─»\n",
       "                                ░                     ░              ░ └───┘ ░ »\n",
       "«           \n",
       "«q_0: ─X────\n",
       "«      │    \n",
       "«q_1: ─┼──X─\n",
       "«      │  │ \n",
       "«q_2: ─┼──X─\n",
       "«      │    \n",
       "«q_3: ─X────\n",
       "«           </pre>"
      ],
      "text/plain": [
       "     ┌───┐                      ░                     ░              ░       ░ »\n",
       "q_0: ┤ H ├─■──────■──────■──────░─────────────────────░──────────────░───────░─»\n",
       "     └───┘ │pi/2  │      │      ░ ┌───┐               ░              ░       ░ »\n",
       "q_1: ──────■──────┼──────┼──────░─┤ H ├─■──────■──────░──────────────░───────░─»\n",
       "                  │pi/4  │      ░ └───┘ │pi/2  │      ░ ┌───┐        ░       ░ »\n",
       "q_2: ─────────────■──────┼──────░───────■──────┼──────░─┤ H ├─■──────░───────░─»\n",
       "                         │pi/8  ░              │pi/4  ░ └───┘ │pi/2  ░ ┌───┐ ░ »\n",
       "q_3: ────────────────────■──────░──────────────■──────░───────■──────░─┤ H ├─░─»\n",
       "                                ░                     ░              ░ └───┘ ░ »\n",
       "«           \n",
       "«q_0: ─X────\n",
       "«      │    \n",
       "«q_1: ─┼──X─\n",
       "«      │  │ \n",
       "«q_2: ─┼──X─\n",
       "«      │    \n",
       "«q_3: ─X────\n",
       "«           "
      ]
     },
     "execution_count": 9,
     "metadata": {},
     "output_type": "execute_result"
    }
   ],
   "source": [
    "qc = QuantumCircuit(4)\n",
    "aux = qft(qc,4)\n",
    "aux.draw()"
   ]
  }
 ],
 "metadata": {
  "kernelspec": {
   "display_name": "Python 3",
   "language": "python",
   "name": "python3"
  },
  "language_info": {
   "codemirror_mode": {
    "name": "ipython",
    "version": 3
   },
   "file_extension": ".py",
   "mimetype": "text/x-python",
   "name": "python",
   "nbconvert_exporter": "python",
   "pygments_lexer": "ipython3",
   "version": "3.8.5"
  }
 },
 "nbformat": 4,
 "nbformat_minor": 4
}
